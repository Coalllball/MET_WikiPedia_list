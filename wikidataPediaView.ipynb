{
 "cells": [
  {
   "cell_type": "markdown",
   "metadata": {},
   "source": [
    "## Wiki API Call"
   ]
  },
  {
   "cell_type": "markdown",
   "metadata": {},
   "source": [
    "curl -X 'GET' \\\n",
    "  'https://wikimedia.org/api/rest_v1/metrics/pageviews/per-article/en.wikipedia.org/all-access/user/The_Death_of_Socrates/monthly/20220101/20220901' \\\n",
    "  -H 'accept: application/json'\n",
    "\n",
    "Wiki REST API call"
   ]
  },
  {
   "cell_type": "markdown",
   "metadata": {},
   "source": [
    "## sample json result, by month, english wiki"
   ]
  },
  {
   "cell_type": "code",
   "execution_count": null,
   "metadata": {},
   "outputs": [],
   "source": [
    "{\n",
    "  \"items\": [\n",
    "    {\n",
    "      \"project\": \"en.wikipedia\",\n",
    "      \"article\": \"The_Death_of_Socrates\",\n",
    "      \"granularity\": \"monthly\",\n",
    "      \"timestamp\": \"2022010100\",\n",
    "      \"access\": \"all-access\",\n",
    "      \"agent\": \"user\",\n",
    "      \"views\": 17365\n",
    "    },\n",
    "    {\n",
    "      \"project\": \"en.wikipedia\",\n",
    "      \"article\": \"The_Death_of_Socrates\",\n",
    "      \"granularity\": \"monthly\",\n",
    "      \"timestamp\": \"2022020100\",\n",
    "      \"access\": \"all-access\",\n",
    "      \"agent\": \"user\",\n",
    "      \"views\": 18084\n",
    "    },\n",
    "    {\n",
    "      \"project\": \"en.wikipedia\",\n",
    "      \"article\": \"The_Death_of_Socrates\",\n",
    "      \"granularity\": \"monthly\",\n",
    "      \"timestamp\": \"2022030100\",\n",
    "      \"access\": \"all-access\",\n",
    "      \"agent\": \"user\",\n",
    "      \"views\": 17129\n",
    "    },\n",
    "    {\n",
    "      \"project\": \"en.wikipedia\",\n",
    "      \"article\": \"The_Death_of_Socrates\",\n",
    "      \"granularity\": \"monthly\",\n",
    "      \"timestamp\": \"2022040100\",\n",
    "      \"access\": \"all-access\",\n",
    "      \"agent\": \"user\",\n",
    "      \"views\": 16156\n",
    "    },\n",
    "    {\n",
    "      \"project\": \"en.wikipedia\",\n",
    "      \"article\": \"The_Death_of_Socrates\",\n",
    "      \"granularity\": \"monthly\",\n",
    "      \"timestamp\": \"2022050100\",\n",
    "      \"access\": \"all-access\",\n",
    "      \"agent\": \"user\",\n",
    "      \"views\": 14086\n",
    "    },\n",
    "    {\n",
    "      \"project\": \"en.wikipedia\",\n",
    "      \"article\": \"The_Death_of_Socrates\",\n",
    "      \"granularity\": \"monthly\",\n",
    "      \"timestamp\": \"2022060100\",\n",
    "      \"access\": \"all-access\",\n",
    "      \"agent\": \"user\",\n",
    "      \"views\": 12355\n",
    "    },\n",
    "    {\n",
    "      \"project\": \"en.wikipedia\",\n",
    "      \"article\": \"The_Death_of_Socrates\",\n",
    "      \"granularity\": \"monthly\",\n",
    "      \"timestamp\": \"2022070100\",\n",
    "      \"access\": \"all-access\",\n",
    "      \"agent\": \"user\",\n",
    "      \"views\": 12413\n",
    "    },\n",
    "    {\n",
    "      \"project\": \"en.wikipedia\",\n",
    "      \"article\": \"The_Death_of_Socrates\",\n",
    "      \"granularity\": \"monthly\",\n",
    "      \"timestamp\": \"2022080100\",\n",
    "      \"access\": \"all-access\",\n",
    "      \"agent\": \"user\",\n",
    "      \"views\": 14977\n",
    "    }\n",
    "  ]\n",
    "}"
   ]
  },
  {
   "cell_type": "markdown",
   "metadata": {},
   "source": [
    "## WikiData Query"
   ]
  },
  {
   "cell_type": "code",
   "execution_count": null,
   "metadata": {
    "vscode": {
     "languageId": "sql"
    }
   },
   "outputs": [],
   "source": [
    "# Met Objects with at least one Wikipedia article\n",
    "SELECT ?item ?itemLabel ?metid ?sitelinks\n",
    "WHERE \n",
    "{\n",
    "  ?item wdt:P3634 ?metid .\n",
    "  ?item wikibase:sitelinks ?sitelinks .\n",
    "  FILTER(?sitelinks > 0)\n",
    "  SERVICE wikibase:label { bd:serviceParam wikibase:language \"[AUTO_LANGUAGE],en\". }\n",
    "}"
   ]
  },
  {
   "cell_type": "markdown",
   "metadata": {},
   "source": [
    "### Python Code"
   ]
  },
  {
   "cell_type": "markdown",
   "metadata": {},
   "source": [
    "# pip install sparqlwrapper\n",
    "# https://rdflib.github.io/sparqlwrapper/\n",
    "\n",
    "import sys\n",
    "from SPARQLWrapper import SPARQLWrapper, JSON\n",
    "\n",
    "endpoint_url = \"https://query.wikidata.org/sparql\"\n",
    "\n",
    "query = \"\"\"# Met Objects with at least one Wikipedia article\n",
    "SELECT ?item ?itemLabel ?metid ?sitelinks\n",
    "WHERE \n",
    "{\n",
    "  ?item wdt:P3634 ?metid .\n",
    "  ?item wikibase:sitelinks ?sitelinks .\n",
    "  FILTER(?sitelinks > 0)\n",
    "  SERVICE wikibase:label { bd:serviceParam wikibase:language \"[AUTO_LANGUAGE],en\". }\n",
    "}\"\"\"\n",
    "\n",
    "\n",
    "def get_results(endpoint_url, query):\n",
    "    user_agent = \"WDQS-example Python/%s.%s\" % (sys.version_info[0], sys.version_info[1])\n",
    "    # TODO adjust user agent; see https://w.wiki/CX6\n",
    "    sparql = SPARQLWrapper(endpoint_url, agent=user_agent)\n",
    "    sparql.setQuery(query)\n",
    "    sparql.setReturnFormat(JSON)\n",
    "    return sparql.query().convert()\n",
    "\n",
    "\n",
    "results = get_results(endpoint_url, query)\n",
    "\n",
    "for result in results[\"results\"][\"bindings\"]:\n",
    "    print(result)\n"
   ]
  },
  {
   "cell_type": "markdown",
   "metadata": {},
   "source": [
    " *item*         *itemLabel*             *metid* *sitelinks*\n",
    " wd:Q1752990\tThe Death of Socrates\t436105\t45"
   ]
  }
 ],
 "metadata": {
  "kernelspec": {
   "display_name": "Python 3.9.6 64-bit",
   "language": "python",
   "name": "python3"
  },
  "language_info": {
   "codemirror_mode": {
    "name": "ipython",
    "version": 3
   },
   "file_extension": ".py",
   "mimetype": "text/x-python",
   "name": "python",
   "nbconvert_exporter": "python",
   "pygments_lexer": "ipython3",
   "version": "3.9.6"
  },
  "orig_nbformat": 4,
  "vscode": {
   "interpreter": {
    "hash": "31f2aee4e71d21fbe5cf8b01ff0e069b9275f58929596ceb00d14d90e3e16cd6"
   }
  }
 },
 "nbformat": 4,
 "nbformat_minor": 2
}
