{
 "cells": [
  {
   "cell_type": "code",
   "execution_count": 29,
   "metadata": {},
   "outputs": [],
   "source": [
    "import requests as rq \n",
    "import json\n",
    "import time\n",
    "import pandas as pd"
   ]
  },
  {
   "cell_type": "code",
   "execution_count": 21,
   "metadata": {},
   "outputs": [],
   "source": [
    "url = 'https://collectionapi.metmuseum.org/public/collection/v1/objects'\n",
    "\n",
    "r = rq.get(url)\n",
    "\n",
    "r_dict = r.json()\n",
    "\n",
    "oID = r_dict['objectIDs']"
   ]
  },
  {
   "cell_type": "code",
   "execution_count": 75,
   "metadata": {},
   "outputs": [],
   "source": [
    "rTrace = []\n",
    "with open('../METfiles/apiRequest.json', 'a') as AR:\n",
    "    for i in oID[14449+1:]:\n",
    "        time.sleep(0.1)\n",
    "        temp_r = rq.get(url+'/'+str(i))\n",
    "        temp_dict = temp_r.json()\n",
    "        temp_str = json.dumps(temp_dict, indent=2, ensure_ascii=False)\n",
    "        AR.write(temp_str)\n",
    "        AR.write(',\\n')\n",
    "        rTrace.append(temp_r)\n",
    "        rTrace.append(i)"
   ]
  },
  {
   "cell_type": "code",
   "execution_count": 74,
   "metadata": {},
   "outputs": [
    {
     "data": {
      "text/plain": [
       "14449"
      ]
     },
     "execution_count": 74,
     "metadata": {},
     "output_type": "execute_result"
    }
   ],
   "source": [
    "rTrace[-1]"
   ]
  }
 ],
 "metadata": {
  "kernelspec": {
   "display_name": "Python 3.8.9 64-bit",
   "language": "python",
   "name": "python3"
  },
  "language_info": {
   "codemirror_mode": {
    "name": "ipython",
    "version": 3
   },
   "file_extension": ".py",
   "mimetype": "text/x-python",
   "name": "python",
   "nbconvert_exporter": "python",
   "pygments_lexer": "ipython3",
   "version": "3.9.6"
  },
  "orig_nbformat": 4,
  "vscode": {
   "interpreter": {
    "hash": "31f2aee4e71d21fbe5cf8b01ff0e069b9275f58929596ceb00d14d90e3e16cd6"
   }
  }
 },
 "nbformat": 4,
 "nbformat_minor": 2
}
